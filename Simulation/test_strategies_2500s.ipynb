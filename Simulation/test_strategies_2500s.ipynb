{
 "cells": [
  {
   "cell_type": "code",
   "execution_count": 14,
   "metadata": {},
   "outputs": [],
   "source": [
    "from strategicPlayer import StrategicPlayer\n",
    "from strategy import FlushStrategy, StraightStrategy, FullHouse4CardsStrategy\n",
    "import time\n",
    "import random\n",
    "import pandas as pd"
   ]
  },
  {
   "cell_type": "code",
   "execution_count": 15,
   "metadata": {},
   "outputs": [],
   "source": [
    "iterations = 2500"
   ]
  },
  {
   "cell_type": "code",
   "execution_count": 16,
   "metadata": {},
   "outputs": [],
   "source": [
    "flush_df = pd.DataFrame(index=range(iterations), columns=[\"Strategy\", \"Won\", \"Score\", \"Remaining_plays\", \"Target_hand_ratio\"])\n",
    "\n",
    "# \"score\": self.currentScore,\n",
    "# \"remainingPlaysToWin\": self.remainingPlaysToWin,\n",
    "# \"history\": self.history\n",
    "for i in range(iterations):\n",
    "    random.seed(i)\n",
    "    FlushPlayer = StrategicPlayer(FlushStrategy())\n",
    "    FlushResults = FlushPlayer.play_strategically()\n",
    "    target_hands = FlushPlayer.target_hand\n",
    "    target_hands_ratio = len([hand for hand in FlushResults[\"history\"] if hand[1] in target_hands]) / len(FlushResults[\"history\"])\n",
    "    new_row = {\"Strategy\": \"Flush\", \n",
    "               \"Won\": 1 if FlushResults[\"score\"] >= 600 else 0, \n",
    "               \"Score\": FlushResults[\"score\"], \n",
    "               \"Remaining_plays\": FlushResults[\"remainingPlaysToWin\"], \n",
    "               \"Target_hand_ratio\": target_hands_ratio}\n",
    "    flush_df.loc[i] = new_row\n",
    "\n"
   ]
  },
  {
   "cell_type": "code",
   "execution_count": 17,
   "metadata": {},
   "outputs": [
    {
     "name": "stdout",
     "output_type": "stream",
     "text": [
      "Won                     0.9804\n",
      "Score                1019.9184\n",
      "Remaining_plays         1.1976\n",
      "Target_hand_ratio       0.8047\n",
      "dtype: object\n",
      "Won                    0.138649\n",
      "Score                270.713346\n",
      "Remaining_plays        0.706225\n",
      "Target_hand_ratio      0.185868\n",
      "dtype: object\n"
     ]
    }
   ],
   "source": [
    "# find the mean and std of the values in the columns, exclude the strategy column\n",
    "print(flush_df.drop(columns=[\"Strategy\"]).mean())\n",
    "print(flush_df.drop(columns=[\"Strategy\"]).std())\n"
   ]
  },
  {
   "cell_type": "code",
   "execution_count": 18,
   "metadata": {},
   "outputs": [],
   "source": [
    "straight_df = pd.DataFrame(index=range(iterations), columns=[\"Strategy\", \"Won\", \"Score\", \"Remaining_plays\", \"Target_hand_ratio\"])\n",
    "\n",
    "# \"score\": self.currentScore,\n",
    "# \"remainingPlaysToWin\": self.remainingPlaysToWin,\n",
    "# \"history\": self.history\n",
    "for i in range(iterations):\n",
    "    random.seed(i)\n",
    "    StraightPlayer = StrategicPlayer(StraightStrategy())\n",
    "    StraightResults = StraightPlayer.play_strategically()\n",
    "    target_hands = StraightPlayer.target_hand\n",
    "    target_hands_ratio = len([hand for hand in StraightResults[\"history\"] if hand[1] in target_hands]) / len(StraightResults[\"history\"])\n",
    "    new_row = {\"Strategy\": \"Straight\", \n",
    "               \"Won\": 1 if StraightResults[\"score\"] >= 600 else 0, \n",
    "               \"Score\": StraightResults[\"score\"], \n",
    "               \"Remaining_plays\": StraightResults[\"remainingPlaysToWin\"], \n",
    "               \"Target_hand_ratio\": target_hands_ratio}\n",
    "    straight_df.loc[i] = new_row"
   ]
  },
  {
   "cell_type": "code",
   "execution_count": 19,
   "metadata": {},
   "outputs": [
    {
     "name": "stdout",
     "output_type": "stream",
     "text": [
      "Won                   0.8692\n",
      "Score                871.402\n",
      "Remaining_plays       0.8536\n",
      "Target_hand_ratio     0.7205\n",
      "dtype: object\n",
      "Won                    0.337249\n",
      "Score                248.526778\n",
      "Remaining_plays        0.729095\n",
      "Target_hand_ratio      0.218229\n",
      "dtype: object\n"
     ]
    }
   ],
   "source": [
    "# find the mean and std of the values in the columns, exclude the strategy column\n",
    "print(straight_df.drop(columns=[\"Strategy\"]).mean())\n",
    "print(straight_df.drop(columns=[\"Strategy\"]).std())"
   ]
  },
  {
   "cell_type": "code",
   "execution_count": 20,
   "metadata": {},
   "outputs": [],
   "source": [
    "\n",
    "full_house_df = pd.DataFrame(index=range(iterations), columns=[\"Strategy\", \"Won\", \"Score\", \"Remaining_plays\", \"Target_hand_ratio\"])\n",
    "\n",
    "# \"score\": self.currentScore,\n",
    "# \"remainingPlaysToWin\": self.remainingPlaysToWin,\n",
    "# \"history\": self.history\n",
    "for i in range(iterations):\n",
    "    random.seed(i)\n",
    "    FullHousePlayer = StrategicPlayer(FullHouse4CardsStrategy())\n",
    "    FullHouseResults = FullHousePlayer.play_strategically()\n",
    "    target_hands = FullHousePlayer.target_hand\n",
    "    target_hands_ratio = len([hand for hand in FullHouseResults[\"history\"] if hand[1] in target_hands]) / len(FullHouseResults[\"history\"])\n",
    "    new_row = {\"Strategy\": \"Full House\", \n",
    "               \"Won\": 1 if FullHouseResults[\"score\"] >= 600 else 0, \n",
    "               \"Score\": FullHouseResults[\"score\"], \n",
    "               \"Remaining_plays\": FullHouseResults[\"remainingPlaysToWin\"], \n",
    "               \"Target_hand_ratio\": target_hands_ratio}\n",
    "    full_house_df.loc[i] = new_row"
   ]
  },
  {
   "cell_type": "code",
   "execution_count": 21,
   "metadata": {},
   "outputs": [
    {
     "name": "stdout",
     "output_type": "stream",
     "text": [
      "Won                    0.8848\n",
      "Score                943.5348\n",
      "Remaining_plays        1.2256\n",
      "Target_hand_ratio      0.6797\n",
      "dtype: object\n",
      "Won                    0.319327\n",
      "Score                290.115702\n",
      "Remaining_plays        0.857321\n",
      "Target_hand_ratio      0.240845\n",
      "dtype: object\n"
     ]
    }
   ],
   "source": [
    "print(full_house_df.drop(columns=[\"Strategy\"]).mean())\n",
    "print(full_house_df.drop(columns=[\"Strategy\"]).std())\n"
   ]
  },
  {
   "cell_type": "code",
   "execution_count": 22,
   "metadata": {},
   "outputs": [
    {
     "name": "stdout",
     "output_type": "stream",
     "text": [
      "Won\n",
      "1    2173\n",
      "0     327\n",
      "Name: count, dtype: int64\n",
      "Won\n",
      "1    2451\n",
      "0      49\n",
      "Name: count, dtype: int64\n",
      "Won\n",
      "1    2212\n",
      "0     288\n",
      "Name: count, dtype: int64\n"
     ]
    }
   ],
   "source": [
    "# how many times the player lost\n",
    "print(straight_df[\"Won\"].value_counts())\n",
    "print(flush_df[\"Won\"].value_counts())\n",
    "print(full_house_df[\"Won\"].value_counts())\n",
    "\n"
   ]
  },
  {
   "cell_type": "code",
   "execution_count": 26,
   "metadata": {},
   "outputs": [
    {
     "name": "stdout",
     "output_type": "stream",
     "text": [
      "Paired T-test for Won:\n",
      "Straight vs Flush: mean diff = -0.111, t-stat = -15.322, p-value = 0.0000\n",
      "Flush vs Full House: mean diff = 0.096, t-stat = 13.747, p-value = 0.0000\n",
      "Full House vs Straight: mean diff = 0.016, t-stat = 1.693, p-value = 0.0906\n",
      "Paired T-test for Score:\n",
      "Straight vs Flush: mean diff = -148.516, t-stat = -22.941, p-value = 0.0000\n",
      "Flush vs Full House: mean diff = 76.384, t-stat = 10.386, p-value = 0.0000\n",
      "Full House vs Straight: mean diff = 72.133, t-stat = 10.209, p-value = 0.0000\n",
      "Paired T-test for Remaining_plays:\n",
      "Straight vs Flush: mean diff = -0.344, t-stat = -19.187, p-value = 0.0000\n",
      "Flush vs Full House: mean diff = -0.028, t-stat = -1.353, p-value = 0.1760\n",
      "Full House vs Straight: mean diff = 0.372, t-stat = 17.472, p-value = 0.0000\n",
      "Paired T-test for Target_hand_ratio:\n",
      "Straight vs Flush: mean diff = -0.084, t-stat = -16.064, p-value = 0.0000\n",
      "Flush vs Full House: mean diff = 0.125, t-stat = 21.946, p-value = 0.0000\n",
      "Full House vs Straight: mean diff = -0.041, t-stat = -6.653, p-value = 0.0000\n"
     ]
    }
   ],
   "source": [
    "from scipy.stats import ttest_rel\n",
    "\n",
    "for df in [straight_df, flush_df, full_house_df]:\n",
    "    for col in [\"Won\", \"Score\", \"Remaining_plays\", \"Target_hand_ratio\"]:\n",
    "        df[col] = pd.to_numeric(df[col], errors='coerce')\n",
    "\n",
    "# format the output as f\"{Won_mean_diff} & {p_value} & {Score_mean_diff} & {p_value} & {Remaining_plays_mean_diff} & {p_value} & {Target_hand_ratio_mean_diff} & {p_value}\" for each comparison\n",
    "\n",
    "\n",
    "\n",
    "\n",
    "# for measure in [\"Won\", \"Score\", \"Remaining_plays\", \"Target_hand_ratio\"]:\n",
    "#     print(f\"Paired T-test for {measure}:\")\n",
    "#     mean_diff = straight_df[measure].mean() - flush_df[measure].mean()\n",
    "#     t_stat, p_value = ttest_rel(straight_df[measure], flush_df[measure])\n",
    "#     print(f\"Straight vs Flush: mean diff = {mean_diff:.3f}, t-stat = {t_stat:.3f}, p-value = {p_value:.4f}\")\n",
    "#     mean_diff = flush_df[measure].mean() - full_house_df[measure].mean()\n",
    "#     t_stat, p_value = ttest_rel(flush_df[measure], full_house_df[measure])\n",
    "#     print(f\"Flush vs Full House: mean diff = {mean_diff:.3f}, t-stat = {t_stat:.3f}, p-value = {p_value:.4f}\")\n",
    "#     mean_diff = full_house_df[measure].mean() - straight_df[measure].mean()\n",
    "#     t_stat, p_value = ttest_rel(full_house_df[measure], straight_df[measure])\n",
    "#     print(f\"Full House vs Straight: mean diff = {mean_diff:.3f}, t-stat = {t_stat:.3f}, p-value = {p_value:.4f}\")\n",
    "\n",
    "\n"
   ]
  },
  {
   "cell_type": "code",
   "execution_count": 32,
   "metadata": {},
   "outputs": [
    {
     "name": "stdout",
     "output_type": "stream",
     "text": [
      "S - F & -0.111 & 0.000 & -148.52 & 0.000 & -0.344 & 0.000 & -0.084 & 0.000 \\\\\n",
      "F - FH & 0.096 & 0.000 & 76.38 & 0.000 & -0.028 & 0.176 & 0.125 & 0.000 \\\\\n",
      "FH - S & 0.016 & 0.091 & 72.13 & 0.000 & 0.372 & 0.000 & -0.041 & 0.000 \\\\\n"
     ]
    }
   ],
   "source": [
    "from scipy.stats import ttest_rel\n",
    "\n",
    "for df in [straight_df, flush_df, full_house_df]:\n",
    "    for col in [\"Won\", \"Score\", \"Remaining_plays\", \"Target_hand_ratio\"]:\n",
    "        df[col] = pd.to_numeric(df[col], errors='coerce')\n",
    "\n",
    "# Calculate each comparison and format according to the required format\n",
    "comparisons = [\n",
    "    (\"S - F\", straight_df, flush_df),\n",
    "    (\"F - FH\", flush_df, full_house_df),\n",
    "    (\"FH - S\", full_house_df, straight_df)\n",
    "]\n",
    "\n",
    "for name, df1, df2 in comparisons:\n",
    "    # Calculate stats for Won\n",
    "    won_mean_diff = df1[\"Won\"].mean() - df2[\"Won\"].mean()\n",
    "    _, won_p = ttest_rel(df1[\"Won\"], df2[\"Won\"])\n",
    "    \n",
    "    # Calculate stats for Score\n",
    "    score_mean_diff = df1[\"Score\"].mean() - df2[\"Score\"].mean()\n",
    "    _, score_p = ttest_rel(df1[\"Score\"], df2[\"Score\"])\n",
    "    \n",
    "    # Calculate stats for Remaining_plays\n",
    "    plays_mean_diff = df1[\"Remaining_plays\"].mean() - df2[\"Remaining_plays\"].mean()\n",
    "    _, plays_p = ttest_rel(df1[\"Remaining_plays\"], df2[\"Remaining_plays\"])\n",
    "    \n",
    "    # Calculate stats for Target_hand_ratio\n",
    "    ratio_mean_diff = df1[\"Target_hand_ratio\"].mean() - df2[\"Target_hand_ratio\"].mean()\n",
    "    _, ratio_p = ttest_rel(df1[\"Target_hand_ratio\"], df2[\"Target_hand_ratio\"])\n",
    "    \n",
    "    # Format output as requested\n",
    "    print(f\"{name} & {won_mean_diff:.3f} & {won_p:.3f} & {score_mean_diff:.2f} & {score_p:.3f} & {plays_mean_diff:.3f} & {plays_p:.3f} & {ratio_mean_diff:.3f} & {ratio_p:.3f} \\\\\\\\\")"
   ]
  },
  {
   "cell_type": "code",
   "execution_count": 24,
   "metadata": {},
   "outputs": [
    {
     "name": "stdout",
     "output_type": "stream",
     "text": [
      "Sample Size Analysis: Full House vs Straight\n",
      "===========================================\n",
      "Won:\n",
      "  Current p-value: 0.0906\n",
      "  Effect size (Cohen's d): 0.0339\n",
      "  Required sample size for significance: 6848\n",
      "\n",
      "Score:\n",
      "  Current p-value: 0.0000\n",
      "  Effect size (Cohen's d): 0.2042\n",
      "  Required sample size for significance: 191\n",
      "\n",
      "Remaining_plays:\n",
      "  Current p-value: 0.0000\n",
      "  Effect size (Cohen's d): 0.3494\n",
      "  Required sample size for significance: 67\n",
      "\n",
      "Target_hand_ratio:\n",
      "  Current p-value: 0.0000\n",
      "  Effect size (Cohen's d): -0.1331\n",
      "  Required sample size for significance: 446\n",
      "\n"
     ]
    }
   ],
   "source": [
    "# Write codes to find the sample size needed to achieve a power of 0.8 for a two-tailed t-test with a significance level of 0.05\n",
    "import numpy as np\n",
    "from statsmodels.stats.power import TTestPower\n",
    "from statsmodels.stats.power import tt_ind_solve_power\n",
    "\n",
    "import numpy as np\n",
    "from statsmodels.stats.power import TTestPower\n",
    "\n",
    "# For paired samples, we need to use the standard deviation of the differences\n",
    "results = {}\n",
    "\n",
    "for measure in [\"Won\", \"Score\", \"Remaining_plays\", \"Target_hand_ratio\"]:\n",
    "    # Calculate differences\n",
    "    diff = full_house_df[measure] - straight_df[measure]\n",
    "    \n",
    "    # Calculate effect size for paired data\n",
    "    effect_size = diff.mean() / diff.std()\n",
    "    \n",
    "    # Power analysis for paired t-test\n",
    "    power_analysis = TTestPower()\n",
    "    n = power_analysis.solve_power(\n",
    "        effect_size=abs(effect_size),\n",
    "        alpha=0.05,\n",
    "        power=0.8,\n",
    "        alternative='two-sided'\n",
    "    )\n",
    "    n = int(np.ceil(n))\n",
    "    \n",
    "    results[measure] = {\n",
    "        'current_p': ttest_rel(full_house_df[measure], straight_df[measure])[1],\n",
    "        'effect_size': effect_size,\n",
    "        'required_sample_size': n\n",
    "    }\n",
    "# Print results\n",
    "print(\"Sample Size Analysis: Full House vs Straight\")\n",
    "print(\"===========================================\")\n",
    "for measure, stats in results.items():\n",
    "    print(f\"{measure}:\")\n",
    "    print(f\"  Current p-value: {stats['current_p']:.4f}\")\n",
    "    print(f\"  Effect size (Cohen's d): {stats['effect_size']:.4f}\")\n",
    "    print(f\"  Required sample size for significance: {stats['required_sample_size']}\")\n",
    "    print()"
   ]
  },
  {
   "cell_type": "code",
   "execution_count": 25,
   "metadata": {},
   "outputs": [],
   "source": [
    "# save results of the simulation\n",
    "save_path = \"../Results\"\n",
    "straight_df.to_csv(save_path + \"/straight_df.csv\", index=False)\n",
    "flush_df.to_csv(save_path + \"/flush_df.csv\", index=False)\n",
    "full_house_df.to_csv(save_path + \"/full_house_df.csv\", index=False)\n",
    "\n",
    "\n",
    "\n"
   ]
  }
 ],
 "metadata": {
  "kernelspec": {
   "display_name": "Python 3",
   "language": "python",
   "name": "python3"
  },
  "language_info": {
   "codemirror_mode": {
    "name": "ipython",
    "version": 3
   },
   "file_extension": ".py",
   "mimetype": "text/x-python",
   "name": "python",
   "nbconvert_exporter": "python",
   "pygments_lexer": "ipython3",
   "version": "3.13.3"
  }
 },
 "nbformat": 4,
 "nbformat_minor": 2
}
