{
 "cells": [
  {
   "cell_type": "code",
   "execution_count": 16,
   "metadata": {},
   "outputs": [],
   "source": [
    "from strategicPlayer import StrategicPlayer\n",
    "from strategy import FlushStrategy, StraightStrategy, FullHouse4CardsStrategy\n",
    "import time\n",
    "import random\n",
    "import pandas as pd"
   ]
  },
  {
   "cell_type": "code",
   "execution_count": 17,
   "metadata": {},
   "outputs": [],
   "source": [
    "iterations = 50"
   ]
  },
  {
   "cell_type": "code",
   "execution_count": 18,
   "metadata": {},
   "outputs": [],
   "source": [
    "flush_df = pd.DataFrame(index=range(iterations), columns=[\"Strategy\", \"Won\", \"Score\", \"Remaining_plays\", \"Target_hand_ratio\"])\n",
    "\n",
    "# \"score\": self.currentScore,\n",
    "# \"remainingPlaysToWin\": self.remainingPlaysToWin,\n",
    "# \"history\": self.history\n",
    "for i in range(iterations):\n",
    "    random.seed(i)\n",
    "    FlushPlayer = StrategicPlayer(FlushStrategy())\n",
    "    FlushResults = FlushPlayer.play_strategically()\n",
    "    target_hands = FlushPlayer.target_hand\n",
    "    target_hands_ratio = len([hand for hand in FlushResults[\"history\"] if hand[1] in target_hands]) / len(FlushResults[\"history\"])\n",
    "    new_row = {\"Strategy\": \"Flush\", \n",
    "               \"Won\": 1 if FlushResults[\"score\"] >= 600 else 0, \n",
    "               \"Score\": FlushResults[\"score\"], \n",
    "               \"Remaining_plays\": FlushResults[\"remainingPlaysToWin\"], \n",
    "               \"Target_hand_ratio\": target_hands_ratio}\n",
    "    flush_df.loc[i] = new_row\n",
    "\n"
   ]
  },
  {
   "cell_type": "code",
   "execution_count": 19,
   "metadata": {},
   "outputs": [
    {
     "name": "stdout",
     "output_type": "stream",
     "text": [
      "Won                     1.0\n",
      "Score                1051.6\n",
      "Remaining_plays        1.22\n",
      "Target_hand_ratio      0.81\n",
      "dtype: object\n",
      "Won                         0.0\n",
      "Score                255.177969\n",
      "Remaining_plays        0.736511\n",
      "Target_hand_ratio      0.156166\n",
      "dtype: object\n"
     ]
    }
   ],
   "source": [
    "# find the mean and std of the values in the columns, exclude the strategy column\n",
    "print(flush_df.drop(columns=[\"Strategy\"]).mean())\n",
    "print(flush_df.drop(columns=[\"Strategy\"]).std())\n"
   ]
  },
  {
   "cell_type": "code",
   "execution_count": 20,
   "metadata": {},
   "outputs": [],
   "source": [
    "straight_df = pd.DataFrame(index=range(iterations), columns=[\"Strategy\", \"Won\", \"Score\", \"Remaining_plays\", \"Target_hand_ratio\"])\n",
    "\n",
    "# \"score\": self.currentScore,\n",
    "# \"remainingPlaysToWin\": self.remainingPlaysToWin,\n",
    "# \"history\": self.history\n",
    "for i in range(iterations):\n",
    "    random.seed(i)\n",
    "    StraightPlayer = StrategicPlayer(StraightStrategy())\n",
    "    StraightResults = StraightPlayer.play_strategically()\n",
    "    target_hands = StraightPlayer.target_hand\n",
    "    target_hands_ratio = len([hand for hand in StraightResults[\"history\"] if hand[1] in target_hands]) / len(StraightResults[\"history\"])\n",
    "    new_row = {\"Strategy\": \"Straight\", \n",
    "               \"Won\": 1 if StraightResults[\"score\"] >= 600 else 0, \n",
    "               \"Score\": StraightResults[\"score\"], \n",
    "               \"Remaining_plays\": StraightResults[\"remainingPlaysToWin\"], \n",
    "               \"Target_hand_ratio\": target_hands_ratio}\n",
    "    straight_df.loc[i] = new_row"
   ]
  },
  {
   "cell_type": "code",
   "execution_count": 21,
   "metadata": {},
   "outputs": [
    {
     "name": "stdout",
     "output_type": "stream",
     "text": [
      "Won                   0.88\n",
      "Score                889.0\n",
      "Remaining_plays       0.92\n",
      "Target_hand_ratio     0.74\n",
      "dtype: object\n",
      "Won                    0.328261\n",
      "Score                201.181409\n",
      "Remaining_plays        0.695173\n",
      "Target_hand_ratio      0.188712\n",
      "dtype: object\n"
     ]
    }
   ],
   "source": [
    "# find the mean and std of the values in the columns, exclude the strategy column\n",
    "print(straight_df.drop(columns=[\"Strategy\"]).mean())\n",
    "print(straight_df.drop(columns=[\"Strategy\"]).std())"
   ]
  },
  {
   "cell_type": "code",
   "execution_count": 22,
   "metadata": {},
   "outputs": [],
   "source": [
    "\n",
    "full_house_df = pd.DataFrame(index=range(iterations), columns=[\"Strategy\", \"Won\", \"Score\", \"Remaining_plays\", \"Target_hand_ratio\"])\n",
    "\n",
    "# \"score\": self.currentScore,\n",
    "# \"remainingPlaysToWin\": self.remainingPlaysToWin,\n",
    "# \"history\": self.history\n",
    "for i in range(iterations):\n",
    "    random.seed(i)\n",
    "    FullHousePlayer = StrategicPlayer(FullHouse4CardsStrategy())\n",
    "    FullHouseResults = FullHousePlayer.play_strategically()\n",
    "    target_hands = FullHousePlayer.target_hand\n",
    "    target_hands_ratio = len([hand for hand in FullHouseResults[\"history\"] if hand[1] in target_hands]) / len(FullHouseResults[\"history\"])\n",
    "    new_row = {\"Strategy\": \"Full House\", \n",
    "               \"Won\": 1 if FullHouseResults[\"score\"] >= 600 else 0, \n",
    "               \"Score\": FullHouseResults[\"score\"], \n",
    "               \"Remaining_plays\": FullHouseResults[\"remainingPlaysToWin\"], \n",
    "               \"Target_hand_ratio\": target_hands_ratio}\n",
    "    full_house_df.loc[i] = new_row"
   ]
  },
  {
   "cell_type": "code",
   "execution_count": 23,
   "metadata": {},
   "outputs": [
    {
     "name": "stdout",
     "output_type": "stream",
     "text": [
      "Won                    0.78\n",
      "Score                866.38\n",
      "Remaining_plays        0.98\n",
      "Target_hand_ratio     0.625\n",
      "dtype: object\n",
      "Won                   0.418452\n",
      "Score                318.88792\n",
      "Remaining_plays       0.868731\n",
      "Target_hand_ratio     0.277792\n",
      "dtype: object\n"
     ]
    }
   ],
   "source": [
    "print(full_house_df.drop(columns=[\"Strategy\"]).mean())\n",
    "print(full_house_df.drop(columns=[\"Strategy\"]).std())\n"
   ]
  },
  {
   "cell_type": "code",
   "execution_count": 24,
   "metadata": {},
   "outputs": [
    {
     "name": "stdout",
     "output_type": "stream",
     "text": [
      "Won\n",
      "1    44\n",
      "0     6\n",
      "Name: count, dtype: int64\n",
      "Won\n",
      "1    50\n",
      "Name: count, dtype: int64\n",
      "Won\n",
      "1    39\n",
      "0    11\n",
      "Name: count, dtype: int64\n"
     ]
    }
   ],
   "source": [
    "# how many times the player lost\n",
    "print(straight_df[\"Won\"].value_counts())\n",
    "print(flush_df[\"Won\"].value_counts())\n",
    "print(full_house_df[\"Won\"].value_counts())\n",
    "\n"
   ]
  },
  {
   "cell_type": "code",
   "execution_count": 25,
   "metadata": {},
   "outputs": [
    {
     "name": "stdout",
     "output_type": "stream",
     "text": [
      "Paired T-test for Won:\n",
      "Straight vs Flush: mean diff = -0.120, t-stat = -2.585, p-value = 0.0128\n",
      "Flush vs Full House: mean diff = 0.220, t-stat = 3.718, p-value = 0.0005\n",
      "Full House vs Straight: mean diff = -0.100, t-stat = -1.400, p-value = 0.1678\n",
      "Paired T-test for Score:\n",
      "Straight vs Flush: mean diff = -162.600, t-stat = -3.578, p-value = 0.0008\n",
      "Flush vs Full House: mean diff = 185.220, t-stat = 4.173, p-value = 0.0001\n",
      "Full House vs Straight: mean diff = -22.620, t-stat = -0.422, p-value = 0.6752\n",
      "Paired T-test for Remaining_plays:\n",
      "Straight vs Flush: mean diff = -0.300, t-stat = -2.090, p-value = 0.0419\n",
      "Flush vs Full House: mean diff = 0.240, t-stat = 1.809, p-value = 0.0766\n",
      "Full House vs Straight: mean diff = 0.060, t-stat = 0.394, p-value = 0.6953\n",
      "Paired T-test for Target_hand_ratio:\n",
      "Straight vs Flush: mean diff = -0.070, t-stat = -2.189, p-value = 0.0334\n",
      "Flush vs Full House: mean diff = 0.185, t-stat = 5.098, p-value = 0.0000\n",
      "Full House vs Straight: mean diff = -0.115, t-stat = -2.539, p-value = 0.0143\n"
     ]
    }
   ],
   "source": [
    "from scipy.stats import ttest_rel\n",
    "\n",
    "for df in [straight_df, flush_df, full_house_df]:\n",
    "    for col in [\"Won\", \"Score\", \"Remaining_plays\", \"Target_hand_ratio\"]:\n",
    "        df[col] = pd.to_numeric(df[col], errors='coerce')\n",
    "\n",
    "for measure in [\"Won\", \"Score\", \"Remaining_plays\", \"Target_hand_ratio\"]:\n",
    "    print(f\"Paired T-test for {measure}:\")\n",
    "    mean_diff = straight_df[measure].mean() - flush_df[measure].mean()\n",
    "    t_stat, p_value = ttest_rel(straight_df[measure], flush_df[measure])\n",
    "    print(f\"Straight vs Flush: mean diff = {mean_diff:.3f}, t-stat = {t_stat:.3f}, p-value = {p_value:.4f}\")\n",
    "    mean_diff = flush_df[measure].mean() - full_house_df[measure].mean()\n",
    "    t_stat, p_value = ttest_rel(flush_df[measure], full_house_df[measure])\n",
    "    print(f\"Flush vs Full House: mean diff = {mean_diff:.3f}, t-stat = {t_stat:.3f}, p-value = {p_value:.4f}\")\n",
    "    mean_diff = full_house_df[measure].mean() - straight_df[measure].mean()\n",
    "    t_stat, p_value = ttest_rel(full_house_df[measure], straight_df[measure])\n",
    "    print(f\"Full House vs Straight: mean diff = {mean_diff:.3f}, t-stat = {t_stat:.3f}, p-value = {p_value:.4f}\")\n",
    "\n",
    "\n"
   ]
  },
  {
   "cell_type": "code",
   "execution_count": 26,
   "metadata": {},
   "outputs": [
    {
     "name": "stdout",
     "output_type": "stream",
     "text": [
      "Sample Size Analysis: Full House vs Straight\n",
      "===========================================\n",
      "Won:\n",
      "  Current p-value: 0.1678\n",
      "  Effect size (Cohen's d): -0.1980\n",
      "  Required sample size for significance: 203\n",
      "\n",
      "Score:\n",
      "  Current p-value: 0.6752\n",
      "  Effect size (Cohen's d): -0.0596\n",
      "  Required sample size for significance: 2211\n",
      "\n",
      "Remaining_plays:\n",
      "  Current p-value: 0.6953\n",
      "  Effect size (Cohen's d): 0.0557\n",
      "  Required sample size for significance: 2531\n",
      "\n",
      "Target_hand_ratio:\n",
      "  Current p-value: 0.0143\n",
      "  Effect size (Cohen's d): -0.3591\n",
      "  Required sample size for significance: 63\n",
      "\n"
     ]
    }
   ],
   "source": [
    "# Write codes to find the sample size needed to achieve a power of 0.8 for a two-tailed t-test with a significance level of 0.05\n",
    "import numpy as np\n",
    "from statsmodels.stats.power import TTestPower\n",
    "from statsmodels.stats.power import tt_ind_solve_power\n",
    "\n",
    "import numpy as np\n",
    "from statsmodels.stats.power import TTestPower\n",
    "\n",
    "# For paired samples, we need to use the standard deviation of the differences\n",
    "results = {}\n",
    "\n",
    "for measure in [\"Won\", \"Score\", \"Remaining_plays\", \"Target_hand_ratio\"]:\n",
    "    # Calculate differences\n",
    "    diff = full_house_df[measure] - straight_df[measure]\n",
    "    \n",
    "    # Calculate effect size for paired data\n",
    "    effect_size = diff.mean() / diff.std()\n",
    "    \n",
    "    # Power analysis for paired t-test\n",
    "    power_analysis = TTestPower()\n",
    "    n = power_analysis.solve_power(\n",
    "        effect_size=abs(effect_size),\n",
    "        alpha=0.05,\n",
    "        power=0.8,\n",
    "        alternative='two-sided'\n",
    "    )\n",
    "    n = int(np.ceil(n))\n",
    "    \n",
    "    results[measure] = {\n",
    "        'current_p': ttest_rel(full_house_df[measure], straight_df[measure])[1],\n",
    "        'effect_size': effect_size,\n",
    "        'required_sample_size': n\n",
    "    }\n",
    "# Print results\n",
    "print(\"Sample Size Analysis: Full House vs Straight\")\n",
    "print(\"===========================================\")\n",
    "for measure, stats in results.items():\n",
    "    print(f\"{measure}:\")\n",
    "    print(f\"  Current p-value: {stats['current_p']:.4f}\")\n",
    "    print(f\"  Effect size (Cohen's d): {stats['effect_size']:.4f}\")\n",
    "    print(f\"  Required sample size for significance: {stats['required_sample_size']}\")\n",
    "    print()"
   ]
  }
 ],
 "metadata": {
  "kernelspec": {
   "display_name": "Python 3",
   "language": "python",
   "name": "python3"
  },
  "language_info": {
   "codemirror_mode": {
    "name": "ipython",
    "version": 3
   },
   "file_extension": ".py",
   "mimetype": "text/x-python",
   "name": "python",
   "nbconvert_exporter": "python",
   "pygments_lexer": "ipython3",
   "version": "3.13.3"
  }
 },
 "nbformat": 4,
 "nbformat_minor": 2
}
