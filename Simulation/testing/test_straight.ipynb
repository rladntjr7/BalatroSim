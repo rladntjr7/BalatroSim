{
 "cells": [
  {
   "cell_type": "code",
   "execution_count": 9,
   "metadata": {},
   "outputs": [],
   "source": [
    "from player import Player\n",
    "from strategy import StraightStrategy, checkhandforsuits, checkdeckforsuits\n",
    "from card import Card\n",
    "from deck import Deck"
   ]
  },
  {
   "cell_type": "code",
   "execution_count": 10,
   "metadata": {},
   "outputs": [],
   "source": [
    "test_player = Player(\"Test Player\")"
   ]
  },
  {
   "cell_type": "code",
   "execution_count": 11,
   "metadata": {},
   "outputs": [
    {
     "name": "stdout",
     "output_type": "stream",
     "text": [
      "♠ 2 ♦ 8 ♠ Ace ♣ 9 ♦ 4 ♣ 10 ♠ 9 ♦ Ace "
     ]
    }
   ],
   "source": [
    "for i in test_player.hand:\n",
    "    print(i, end=\" \")"
   ]
  },
  {
   "cell_type": "code",
   "execution_count": 12,
   "metadata": {},
   "outputs": [
    {
     "name": "stdout",
     "output_type": "stream",
     "text": [
      "calculating probability of straight\n",
      "hand: ♠ 2, ♦ 8, ♠ Ace, ♣ 9 \n",
      "discard: 4\n",
      "total probability of straight: 0.002809064635496853\n",
      "calculating probability of straight\n",
      "hand: ♠ 2, ♦ 8, ♠ Ace, ♦ 4 \n",
      "discard: 4\n",
      "total probability of straight: 0.007710194891136468\n",
      "calculating probability of straight\n",
      "hand: ♠ 2, ♦ 8, ♠ Ace, ♣ 10 \n",
      "discard: 4\n",
      "total probability of straight: 0.0023130584673409405\n",
      "calculating probability of straight\n",
      "hand: ♠ 2, ♦ 8, ♠ Ace, ♠ 9 \n",
      "discard: 4\n",
      "total probability of straight: 0.002809064635496853\n",
      "calculating probability of straight\n",
      "hand: ♠ 2, ♦ 8, ♠ Ace, ♦ Ace \n",
      "discard: 4\n",
      "total probability of straight: 0.000790663297753485\n",
      "calculating probability of straight\n",
      "hand: ♠ 2, ♦ 8, ♣ 9, ♦ 4 \n",
      "discard: 4\n",
      "total probability of straight: 0.003815809828288557\n",
      "calculating probability of straight\n",
      "hand: ♠ 2, ♦ 8, ♣ 9, ♣ 10 \n",
      "discard: 4\n",
      "total probability of straight: 0.02000721909967514\n",
      "calculating probability of straight\n",
      "hand: ♠ 2, ♦ 8, ♣ 9, ♠ 9 \n",
      "discard: 4\n",
      "total probability of straight: 0.0022934146587011025\n",
      "calculating probability of straight\n",
      "hand: ♠ 2, ♦ 8, ♣ 9, ♦ Ace \n",
      "discard: 4\n",
      "total probability of straight: 0.002809064635496853\n",
      "calculating probability of straight\n",
      "hand: ♠ 2, ♦ 8, ♦ 4, ♣ 10 \n",
      "discard: 4\n",
      "total probability of straight: 0.002789420826857016\n",
      "calculating probability of straight\n",
      "hand: ♠ 2, ♦ 8, ♦ 4, ♠ 9 \n",
      "discard: 4\n",
      "total probability of straight: 0.003815809828288557\n",
      "calculating probability of straight\n",
      "hand: ♠ 2, ♦ 8, ♦ 4, ♦ Ace \n",
      "discard: 4\n",
      "total probability of straight: 0.007710194891136468\n",
      "calculating probability of straight\n",
      "hand: ♠ 2, ♦ 8, ♣ 10, ♠ 9 \n",
      "discard: 4\n",
      "total probability of straight: 0.02000721909967514\n",
      "calculating probability of straight\n",
      "hand: ♠ 2, ♦ 8, ♣ 10, ♦ Ace \n",
      "discard: 4\n",
      "total probability of straight: 0.0023130584673409405\n",
      "calculating probability of straight\n",
      "hand: ♠ 2, ♦ 8, ♠ 9, ♦ Ace \n",
      "discard: 4\n",
      "total probability of straight: 0.002809064635496853\n",
      "calculating probability of straight\n",
      "hand: ♠ 2, ♠ Ace, ♣ 9, ♦ 4 \n",
      "discard: 4\n",
      "total probability of straight: 0.007263298244580148\n",
      "calculating probability of straight\n",
      "hand: ♠ 2, ♠ Ace, ♣ 9, ♣ 10 \n",
      "discard: 4\n",
      "total probability of straight: 0.0033198036601326444\n",
      "calculating probability of straight\n",
      "hand: ♠ 2, ♠ Ace, ♣ 9, ♠ 9 \n",
      "discard: 4\n",
      "total probability of straight: 0.0008545056758329589\n",
      "calculating probability of straight\n",
      "hand: ♠ 2, ♠ Ace, ♣ 9, ♦ Ace \n",
      "discard: 4\n",
      "total probability of straight: 0.0008545056758329589\n",
      "calculating probability of straight\n",
      "hand: ♠ 2, ♠ Ace, ♦ 4, ♣ 10 \n",
      "discard: 4\n",
      "total probability of straight: 0.007710194891136468\n",
      "calculating probability of straight\n",
      "hand: ♠ 2, ♠ Ace, ♦ 4, ♠ 9 \n",
      "discard: 4\n",
      "total probability of straight: 0.007263298244580148\n",
      "calculating probability of straight\n",
      "hand: ♠ 2, ♠ Ace, ♦ 4, ♦ Ace \n",
      "discard: 4\n",
      "total probability of straight: 0.007012839684422213\n",
      "calculating probability of straight\n",
      "hand: ♠ 2, ♠ Ace, ♣ 10, ♠ 9 \n",
      "discard: 4\n",
      "total probability of straight: 0.0033198036601326444\n",
      "calculating probability of straight\n",
      "hand: ♠ 2, ♠ Ace, ♣ 10, ♦ Ace \n",
      "discard: 4\n",
      "total probability of straight: 0.0013014023223892764\n",
      "calculating probability of straight\n",
      "hand: ♠ 2, ♠ Ace, ♠ 9, ♦ Ace \n",
      "discard: 4\n",
      "total probability of straight: 0.0008545056758329589\n",
      "calculating probability of straight\n",
      "hand: ♠ 2, ♣ 9, ♦ 4, ♣ 10 \n",
      "discard: 4\n",
      "total probability of straight: 0.0032854269950129277\n",
      "calculating probability of straight\n",
      "hand: ♠ 2, ♣ 9, ♦ 4, ♠ 9 \n",
      "discard: 4\n",
      "total probability of straight: 0.0013505118439888716\n",
      "calculating probability of straight\n",
      "hand: ♠ 2, ♣ 9, ♦ 4, ♦ Ace \n",
      "discard: 4\n",
      "total probability of straight: 0.007263298244580148\n",
      "calculating probability of straight\n",
      "hand: ♠ 2, ♣ 9, ♣ 10, ♠ 9 \n",
      "discard: 4\n",
      "total probability of straight: 0.0022737708500612645\n",
      "calculating probability of straight\n",
      "hand: ♠ 2, ♣ 9, ♣ 10, ♦ Ace \n",
      "discard: 4\n",
      "total probability of straight: 0.0033198036601326444\n",
      "calculating probability of straight\n",
      "hand: ♠ 2, ♣ 9, ♠ 9, ♦ Ace \n",
      "discard: 4\n",
      "total probability of straight: 0.0008545056758329589\n",
      "calculating probability of straight\n",
      "hand: ♠ 2, ♦ 4, ♣ 10, ♠ 9 \n",
      "discard: 4\n",
      "total probability of straight: 0.0032854269950129277\n",
      "calculating probability of straight\n",
      "hand: ♠ 2, ♦ 4, ♣ 10, ♦ Ace \n",
      "discard: 4\n",
      "total probability of straight: 0.007710194891136468\n",
      "calculating probability of straight\n",
      "hand: ♠ 2, ♦ 4, ♠ 9, ♦ Ace \n",
      "discard: 4\n",
      "total probability of straight: 0.007263298244580148\n",
      "calculating probability of straight\n",
      "hand: ♠ 2, ♣ 10, ♠ 9, ♦ Ace \n",
      "discard: 4\n",
      "total probability of straight: 0.0033198036601326444\n",
      "calculating probability of straight\n",
      "hand: ♦ 8, ♠ Ace, ♣ 9, ♦ 4 \n",
      "discard: 4\n",
      "total probability of straight: 0.003457310320611511\n",
      "calculating probability of straight\n",
      "hand: ♦ 8, ♠ Ace, ♣ 9, ♣ 10 \n",
      "discard: 4\n",
      "total probability of straight: 0.020552334789430644\n",
      "calculating probability of straight\n",
      "hand: ♦ 8, ♠ Ace, ♣ 9, ♠ 9 \n",
      "discard: 4\n",
      "total probability of straight: 0.0023081475151809808\n",
      "calculating probability of straight\n",
      "hand: ♦ 8, ♠ Ace, ♣ 9, ♦ Ace \n",
      "discard: 4\n",
      "total probability of straight: 0.0023081475151809808\n",
      "calculating probability of straight\n",
      "hand: ♦ 8, ♠ Ace, ♦ 4, ♣ 10 \n",
      "discard: 4\n",
      "total probability of straight: 0.002961304152455599\n",
      "calculating probability of straight\n",
      "hand: ♦ 8, ♠ Ace, ♦ 4, ♠ 9 \n",
      "discard: 4\n",
      "total probability of straight: 0.003457310320611511\n",
      "calculating probability of straight\n",
      "hand: ♦ 8, ♠ Ace, ♦ 4, ♦ Ace \n",
      "discard: 4\n",
      "total probability of straight: 0.0014389089828681432\n",
      "calculating probability of straight\n",
      "hand: ♦ 8, ♠ Ace, ♣ 10, ♠ 9 \n",
      "discard: 4\n",
      "total probability of straight: 0.020552334789430644\n",
      "calculating probability of straight\n",
      "hand: ♦ 8, ♠ Ace, ♣ 10, ♦ Ace \n",
      "discard: 4\n",
      "total probability of straight: 0.001812141347025068\n",
      "calculating probability of straight\n",
      "hand: ♦ 8, ♠ Ace, ♠ 9, ♦ Ace \n",
      "discard: 4\n",
      "total probability of straight: 0.0023081475151809808\n",
      "calculating probability of straight\n",
      "hand: ♦ 8, ♣ 9, ♦ 4, ♣ 10 \n",
      "discard: 4\n",
      "total probability of straight: 0.020655464784789797\n",
      "calculating probability of straight\n",
      "hand: ♦ 8, ♣ 9, ♦ 4, ♠ 9 \n",
      "discard: 4\n",
      "total probability of straight: 0.0029416603438157606\n",
      "calculating probability of straight\n",
      "hand: ♦ 8, ♣ 9, ♦ 4, ♦ Ace \n",
      "discard: 4\n",
      "total probability of straight: 0.003457310320611511\n",
      "calculating probability of straight\n",
      "hand: ♦ 8, ♣ 9, ♣ 10, ♠ 9 \n",
      "discard: 4\n",
      "total probability of straight: 0.01991882196079587\n",
      "calculating probability of straight\n",
      "hand: ♦ 8, ♣ 9, ♣ 10, ♦ Ace \n",
      "discard: 4\n",
      "total probability of straight: 0.020552334789430644\n",
      "calculating probability of straight\n",
      "hand: ♦ 8, ♣ 9, ♠ 9, ♦ Ace \n",
      "discard: 4\n",
      "total probability of straight: 0.0023081475151809808\n",
      "calculating probability of straight\n",
      "hand: ♦ 8, ♦ 4, ♣ 10, ♠ 9 \n",
      "discard: 4\n",
      "total probability of straight: 0.020655464784789797\n",
      "calculating probability of straight\n",
      "hand: ♦ 8, ♦ 4, ♣ 10, ♦ Ace \n",
      "discard: 4\n",
      "total probability of straight: 0.002961304152455599\n",
      "calculating probability of straight\n",
      "hand: ♦ 8, ♦ 4, ♠ 9, ♦ Ace \n",
      "discard: 4\n",
      "total probability of straight: 0.003457310320611511\n",
      "calculating probability of straight\n",
      "hand: ♦ 8, ♣ 10, ♠ 9, ♦ Ace \n",
      "discard: 4\n",
      "total probability of straight: 0.020552334789430644\n",
      "calculating probability of straight\n",
      "hand: ♠ Ace, ♣ 9, ♦ 4, ♣ 10 \n",
      "discard: 4\n",
      "total probability of straight: 0.003457310320611511\n",
      "calculating probability of straight\n",
      "hand: ♠ Ace, ♣ 9, ♦ 4, ♠ 9 \n",
      "discard: 4\n",
      "total probability of straight: 0.0009920123363118258\n",
      "calculating probability of straight\n",
      "hand: ♠ Ace, ♣ 9, ♦ 4, ♦ Ace \n",
      "discard: 4\n",
      "total probability of straight: 0.0009920123363118258\n",
      "calculating probability of straight\n",
      "hand: ♠ Ace, ♣ 9, ♣ 10, ♠ 9 \n",
      "discard: 4\n",
      "total probability of straight: 0.0028188865398167725\n",
      "calculating probability of straight\n",
      "hand: ♠ Ace, ♣ 9, ♣ 10, ♦ Ace \n",
      "discard: 4\n",
      "total probability of straight: 0.0028188865398167725\n",
      "calculating probability of straight\n",
      "hand: ♠ Ace, ♣ 9, ♠ 9, ♦ Ace \n",
      "discard: 4\n",
      "total probability of straight: 0.00035358855551708644\n",
      "calculating probability of straight\n",
      "hand: ♠ Ace, ♦ 4, ♣ 10, ♠ 9 \n",
      "discard: 4\n",
      "total probability of straight: 0.003457310320611511\n",
      "calculating probability of straight\n",
      "hand: ♠ Ace, ♦ 4, ♣ 10, ♦ Ace \n",
      "discard: 4\n",
      "total probability of straight: 0.0014389089828681435\n",
      "calculating probability of straight\n",
      "hand: ♠ Ace, ♦ 4, ♠ 9, ♦ Ace \n",
      "discard: 4\n",
      "total probability of straight: 0.0009920123363118258\n",
      "calculating probability of straight\n",
      "hand: ♠ Ace, ♣ 10, ♠ 9, ♦ Ace \n",
      "discard: 4\n",
      "total probability of straight: 0.0028188865398167725\n",
      "calculating probability of straight\n",
      "hand: ♣ 9, ♦ 4, ♣ 10, ♠ 9 \n",
      "discard: 4\n",
      "total probability of straight: 0.0024112775105401313\n",
      "calculating probability of straight\n",
      "hand: ♣ 9, ♦ 4, ♣ 10, ♦ Ace \n",
      "discard: 4\n",
      "total probability of straight: 0.003457310320611511\n",
      "calculating probability of straight\n",
      "hand: ♣ 9, ♦ 4, ♠ 9, ♦ Ace \n",
      "discard: 4\n",
      "total probability of straight: 0.0009920123363118258\n",
      "calculating probability of straight\n",
      "hand: ♣ 9, ♣ 10, ♠ 9, ♦ Ace \n",
      "discard: 4\n",
      "total probability of straight: 0.0028188865398167725\n",
      "calculating probability of straight\n",
      "hand: ♦ 4, ♣ 10, ♠ 9, ♦ Ace \n",
      "discard: 4\n",
      "total probability of straight: 0.003457310320611511\n",
      "calculating probability of straight\n",
      "hand: ♠ 2, ♦ 8, ♠ Ace \n",
      "discard: 5\n",
      "total probability of straight: 0.0006239364719228587\n",
      "calculating probability of straight\n",
      "hand: ♠ 2, ♦ 8, ♣ 9 \n",
      "discard: 5\n",
      "total probability of straight: 0.0018138601802810538\n",
      "calculating probability of straight\n",
      "hand: ♠ 2, ♦ 8, ♦ 4 \n",
      "discard: 5\n",
      "total probability of straight: 0.0014087066270843925\n",
      "calculating probability of straight\n",
      "hand: ♠ 2, ♦ 8, ♣ 10 \n",
      "discard: 5\n",
      "total probability of straight: 0.0010290900251195203\n",
      "calculating probability of straight\n",
      "hand: ♠ 2, ♦ 8, ♠ 9 \n",
      "discard: 5\n",
      "total probability of straight: 0.0018138601802810538\n",
      "calculating probability of straight\n",
      "hand: ♠ 2, ♦ 8, ♦ Ace \n",
      "discard: 5\n",
      "total probability of straight: 0.0006239364719228587\n",
      "calculating probability of straight\n",
      "hand: ♠ 2, ♠ Ace, ♣ 9 \n",
      "discard: 5\n",
      "total probability of straight: 0.0006696083270104824\n",
      "calculating probability of straight\n",
      "hand: ♠ 2, ♠ Ace, ♦ 4 \n",
      "discard: 5\n",
      "total probability of straight: 0.005899772377367387\n",
      "calculating probability of straight\n",
      "hand: ♠ 2, ♠ Ace, ♣ 10 \n",
      "discard: 5\n",
      "total probability of straight: 0.0010300722155515121\n",
      "calculating probability of straight\n",
      "hand: ♠ 2, ♠ Ace, ♠ 9 \n",
      "discard: 5\n",
      "total probability of straight: 0.0006696083270104824\n",
      "calculating probability of straight\n",
      "hand: ♠ 2, ♠ Ace, ♦ Ace \n",
      "discard: 5\n",
      "total probability of straight: 0.0004972339061959027\n",
      "calculating probability of straight\n",
      "hand: ♠ 2, ♣ 9, ♦ 4 \n",
      "discard: 5\n",
      "total probability of straight: 0.0010482427385433625\n",
      "calculating probability of straight\n",
      "hand: ♠ 2, ♣ 9, ♣ 10 \n",
      "discard: 5\n",
      "total probability of straight: 0.0018020738950971509\n",
      "calculating probability of straight\n",
      "hand: ♠ 2, ♣ 9, ♠ 9 \n",
      "discard: 5\n",
      "total probability of straight: 0.000263718130989827\n",
      "calculating probability of straight\n",
      "hand: ♠ 2, ♣ 9, ♦ Ace \n",
      "discard: 5\n",
      "total probability of straight: 0.0006696083270104824\n",
      "calculating probability of straight\n",
      "hand: ♠ 2, ♦ 4, ♣ 10 \n",
      "discard: 5\n",
      "total probability of straight: 0.000990784598271836\n",
      "calculating probability of straight\n",
      "hand: ♠ 2, ♦ 4, ♠ 9 \n",
      "discard: 5\n",
      "total probability of straight: 0.0010482427385433625\n",
      "calculating probability of straight\n",
      "hand: ♠ 2, ♦ 4, ♦ Ace \n",
      "discard: 5\n",
      "total probability of straight: 0.005899772377367387\n",
      "calculating probability of straight\n",
      "hand: ♠ 2, ♣ 10, ♠ 9 \n",
      "discard: 5\n",
      "total probability of straight: 0.0018020738950971509\n",
      "calculating probability of straight\n",
      "hand: ♠ 2, ♣ 10, ♦ Ace \n",
      "discard: 5\n",
      "total probability of straight: 0.0010300722155515121\n",
      "calculating probability of straight\n",
      "hand: ♠ 2, ♠ 9, ♦ Ace \n",
      "discard: 5\n",
      "total probability of straight: 0.0006696083270104824\n",
      "calculating probability of straight\n",
      "hand: ♦ 8, ♠ Ace, ♣ 9 \n",
      "discard: 5\n",
      "total probability of straight: 0.0018256464654649565\n",
      "calculating probability of straight\n",
      "hand: ♦ 8, ♠ Ace, ♦ 4 \n",
      "discard: 5\n",
      "total probability of straight: 0.0011174871639987919\n",
      "calculating probability of straight\n",
      "hand: ♦ 8, ♠ Ace, ♣ 10 \n",
      "discard: 5\n",
      "total probability of straight: 0.0014587983391159793\n",
      "calculating probability of straight\n",
      "hand: ♦ 8, ♠ Ace, ♠ 9 \n",
      "discard: 5\n",
      "total probability of straight: 0.0018256464654649565\n",
      "calculating probability of straight\n",
      "hand: ♦ 8, ♠ Ace, ♦ Ace \n",
      "discard: 5\n",
      "total probability of straight: 0.00022983256108610617\n",
      "calculating probability of straight\n",
      "hand: ♦ 8, ♣ 9, ♦ 4 \n",
      "discard: 5\n",
      "total probability of straight: 0.0023074108723569868\n",
      "calculating probability of straight\n",
      "hand: ♦ 8, ♣ 9, ♣ 10 \n",
      "discard: 5\n",
      "total probability of straight: 0.016837936123245256\n",
      "calculating probability of straight\n",
      "hand: ♦ 8, ♣ 9, ♠ 9 \n",
      "discard: 5\n",
      "total probability of straight: 0.0017549287543615394\n",
      "calculating probability of straight\n",
      "hand: ♦ 8, ♣ 9, ♦ Ace \n",
      "discard: 5\n",
      "total probability of straight: 0.0018256464654649565\n",
      "calculating probability of straight\n",
      "hand: ♦ 8, ♦ 4, ♣ 10 \n",
      "discard: 5\n",
      "total probability of straight: 0.0015226407171954532\n",
      "calculating probability of straight\n",
      "hand: ♦ 8, ♦ 4, ♠ 9 \n",
      "discard: 5\n",
      "total probability of straight: 0.0023074108723569868\n",
      "calculating probability of straight\n",
      "hand: ♦ 8, ♦ 4, ♦ Ace \n",
      "discard: 5\n",
      "total probability of straight: 0.0011174871639987919\n",
      "calculating probability of straight\n",
      "hand: ♦ 8, ♣ 10, ♠ 9 \n",
      "discard: 5\n",
      "total probability of straight: 0.016837936123245256\n",
      "calculating probability of straight\n",
      "hand: ♦ 8, ♣ 10, ♦ Ace \n",
      "discard: 5\n",
      "total probability of straight: 0.0014587983391159793\n",
      "calculating probability of straight\n",
      "hand: ♦ 8, ♠ 9, ♦ Ace \n",
      "discard: 5\n",
      "total probability of straight: 0.0018256464654649565\n",
      "calculating probability of straight\n",
      "hand: ♠ Ace, ♣ 9, ♦ 4 \n",
      "discard: 5\n",
      "total probability of straight: 0.0007570232754577621\n",
      "calculating probability of straight\n",
      "hand: ♠ Ace, ♣ 9, ♣ 10 \n",
      "discard: 5\n",
      "total probability of straight: 0.00223178220909361\n",
      "calculating probability of straight\n",
      "hand: ♠ Ace, ♣ 9, ♠ 9 \n",
      "discard: 5\n",
      "total probability of straight: 0.00027550441617372985\n",
      "calculating probability of straight\n",
      "hand: ♠ Ace, ♣ 9, ♦ Ace \n",
      "discard: 5\n",
      "total probability of straight: 0.00027550441617372985\n",
      "calculating probability of straight\n",
      "hand: ♠ Ace, ♦ 4, ♣ 10 \n",
      "discard: 5\n",
      "total probability of straight: 0.0011174871639987919\n",
      "calculating probability of straight\n",
      "hand: ♠ Ace, ♦ 4, ♠ 9 \n",
      "discard: 5\n",
      "total probability of straight: 0.0007570232754577621\n",
      "calculating probability of straight\n",
      "hand: ♠ Ace, ♦ 4, ♦ Ace \n",
      "discard: 5\n",
      "total probability of straight: 0.0005846488546431823\n",
      "calculating probability of straight\n",
      "hand: ♠ Ace, ♣ 10, ♠ 9 \n",
      "discard: 5\n",
      "total probability of straight: 0.00223178220909361\n",
      "calculating probability of straight\n",
      "hand: ♠ Ace, ♣ 10, ♦ Ace \n",
      "discard: 5\n",
      "total probability of straight: 0.0006359683047147596\n",
      "calculating probability of straight\n",
      "hand: ♠ Ace, ♠ 9, ♦ Ace \n",
      "discard: 5\n",
      "total probability of straight: 0.00027550441617372985\n",
      "calculating probability of straight\n",
      "hand: ♣ 9, ♦ 4, ♣ 10 \n",
      "discard: 5\n",
      "total probability of straight: 0.0018894888435444304\n",
      "calculating probability of straight\n",
      "hand: ♣ 9, ♦ 4, ♠ 9 \n",
      "discard: 5\n",
      "total probability of straight: 0.0003511330794371067\n",
      "calculating probability of straight\n",
      "hand: ♣ 9, ♦ 4, ♦ Ace \n",
      "discard: 5\n",
      "total probability of straight: 0.0007570232754577621\n",
      "calculating probability of straight\n",
      "hand: ♣ 9, ♣ 10, ♠ 9 \n",
      "discard: 5\n",
      "total probability of straight: 0.0017431424691776365\n",
      "calculating probability of straight\n",
      "hand: ♣ 9, ♣ 10, ♦ Ace \n",
      "discard: 5\n",
      "total probability of straight: 0.00223178220909361\n",
      "calculating probability of straight\n",
      "hand: ♣ 9, ♠ 9, ♦ Ace \n",
      "discard: 5\n",
      "total probability of straight: 0.00027550441617372985\n",
      "calculating probability of straight\n",
      "hand: ♦ 4, ♣ 10, ♠ 9 \n",
      "discard: 5\n",
      "total probability of straight: 0.0018894888435444304\n",
      "calculating probability of straight\n",
      "hand: ♦ 4, ♣ 10, ♦ Ace \n",
      "discard: 5\n",
      "total probability of straight: 0.0011174871639987919\n",
      "calculating probability of straight\n",
      "hand: ♦ 4, ♠ 9, ♦ Ace \n",
      "discard: 5\n",
      "total probability of straight: 0.0007570232754577621\n",
      "calculating probability of straight\n",
      "hand: ♣ 10, ♠ 9, ♦ Ace \n",
      "discard: 5\n",
      "total probability of straight: 0.00223178220909361\n",
      "best hold: ♦ 8, ♣ 9, ♦ 4, ♣ 10\n"
     ]
    },
    {
     "data": {
      "text/plain": [
       "[0, 2, 6, 7]"
      ]
     },
     "execution_count": 12,
     "metadata": {},
     "output_type": "execute_result"
    }
   ],
   "source": [
    "StraightStrategy().select_discard_cards(test_player)"
   ]
  },
  {
   "cell_type": "code",
   "execution_count": 5,
   "metadata": {},
   "outputs": [
    {
     "data": {
      "text/plain": [
       "[0, 1, 2, 3, 4]"
      ]
     },
     "execution_count": 5,
     "metadata": {},
     "output_type": "execute_result"
    }
   ],
   "source": [
    "StraightStrategy().select_play_cards(test_player)"
   ]
  },
  {
   "cell_type": "code",
   "execution_count": 6,
   "metadata": {},
   "outputs": [
    {
     "data": {
      "text/plain": [
       "True"
      ]
     },
     "execution_count": 6,
     "metadata": {},
     "output_type": "execute_result"
    }
   ],
   "source": [
    "test_player.play([6, 1, 7, 4, 5])"
   ]
  },
  {
   "cell_type": "code",
   "execution_count": 7,
   "metadata": {},
   "outputs": [
    {
     "data": {
      "text/plain": [
       "324"
      ]
     },
     "execution_count": 7,
     "metadata": {},
     "output_type": "execute_result"
    }
   ],
   "source": [
    "test_player.currentScore"
   ]
  },
  {
   "cell_type": "code",
   "execution_count": 14,
   "metadata": {},
   "outputs": [
    {
     "data": {
      "text/plain": [
       "True"
      ]
     },
     "execution_count": 14,
     "metadata": {},
     "output_type": "execute_result"
    }
   ],
   "source": [
    "1 > 0"
   ]
  },
  {
   "cell_type": "code",
   "execution_count": 8,
   "metadata": {},
   "outputs": [
    {
     "name": "stdout",
     "output_type": "stream",
     "text": [
      "♦ 6\n",
      "♠ 8\n",
      "♣ 6\n",
      "♦ 4\n",
      "♣ 2\n",
      "♣ 3\n",
      "♣ 9\n",
      "♥ Ace\n"
     ]
    }
   ],
   "source": [
    "for i in test_player.hand:\n",
    "    print(i)"
   ]
  },
  {
   "cell_type": "code",
   "execution_count": 10,
   "metadata": {},
   "outputs": [
    {
     "data": {
      "text/plain": [
       "[0, 1, 2, 3, 4]"
      ]
     },
     "execution_count": 10,
     "metadata": {},
     "output_type": "execute_result"
    }
   ],
   "source": [
    "StraightStrategy().select_discard_cards(test_player)"
   ]
  },
  {
   "cell_type": "code",
   "execution_count": 7,
   "metadata": {},
   "outputs": [
    {
     "data": {
      "text/plain": [
       "[0, 1, 3, 6, 7]"
      ]
     },
     "execution_count": 7,
     "metadata": {},
     "output_type": "execute_result"
    }
   ],
   "source": [
    "FlushStrategy().select_play_cards(test_player)"
   ]
  },
  {
   "cell_type": "code",
   "execution_count": 8,
   "metadata": {},
   "outputs": [
    {
     "data": {
      "text/plain": [
       "True"
      ]
     },
     "execution_count": 8,
     "metadata": {},
     "output_type": "execute_result"
    }
   ],
   "source": [
    "test_player.play([0, 1, 3, 6, 7])"
   ]
  },
  {
   "cell_type": "code",
   "execution_count": 9,
   "metadata": {},
   "outputs": [
    {
     "data": {
      "text/plain": [
       "656"
      ]
     },
     "execution_count": 9,
     "metadata": {},
     "output_type": "execute_result"
    }
   ],
   "source": [
    "test_player.currentScore"
   ]
  },
  {
   "cell_type": "code",
   "execution_count": 10,
   "metadata": {},
   "outputs": [
    {
     "data": {
      "text/plain": [
       "[0, 3, 5, 6, 7]"
      ]
     },
     "execution_count": 10,
     "metadata": {},
     "output_type": "execute_result"
    }
   ],
   "source": [
    "FlushStrategy().select_play_cards(test_player)"
   ]
  },
  {
   "cell_type": "code",
   "execution_count": 11,
   "metadata": {},
   "outputs": [
    {
     "name": "stdout",
     "output_type": "stream",
     "text": [
      "♦ 7\n",
      "♣ 6\n",
      "♥ Jack\n",
      "♥ 5\n",
      "♥ 9\n",
      "♥ Queen\n",
      "♠ 5\n",
      "♦ Queen\n"
     ]
    }
   ],
   "source": [
    "for i in test_player.hand:\n",
    "    print(i)"
   ]
  },
  {
   "cell_type": "code",
   "execution_count": 12,
   "metadata": {},
   "outputs": [
    {
     "data": {
      "text/plain": [
       "True"
      ]
     },
     "execution_count": 12,
     "metadata": {},
     "output_type": "execute_result"
    }
   ],
   "source": [
    "test_player.play([0, 3, 5, 6, 7])"
   ]
  },
  {
   "cell_type": "code",
   "execution_count": 13,
   "metadata": {},
   "outputs": [
    {
     "data": {
      "text/plain": [
       "756"
      ]
     },
     "execution_count": 13,
     "metadata": {},
     "output_type": "execute_result"
    }
   ],
   "source": [
    "test_player.currentScore"
   ]
  },
  {
   "cell_type": "code",
   "execution_count": 9,
   "metadata": {},
   "outputs": [
    {
     "data": {
      "text/plain": [
       "True"
      ]
     },
     "execution_count": 9,
     "metadata": {},
     "output_type": "execute_result"
    }
   ],
   "source": [
    "test_player.discard([2, 3, 4, 5])"
   ]
  },
  {
   "cell_type": "code",
   "execution_count": 10,
   "metadata": {},
   "outputs": [
    {
     "name": "stdout",
     "output_type": "stream",
     "text": [
      "♠ 8\n",
      "♠ 3\n",
      "♣ Jack\n",
      "♥ 4\n",
      "♦ King\n",
      "♣ 9\n",
      "♠ 5\n",
      "♠ 7\n"
     ]
    }
   ],
   "source": [
    "for i in test_player.hand:\n",
    "    print(i)"
   ]
  },
  {
   "cell_type": "code",
   "execution_count": 11,
   "metadata": {},
   "outputs": [
    {
     "data": {
      "text/plain": [
       "[3, 5, 2, 4]"
      ]
     },
     "execution_count": 11,
     "metadata": {},
     "output_type": "execute_result"
    }
   ],
   "source": [
    "FlushStrategy().select_discard_cards(test_player)"
   ]
  },
  {
   "cell_type": "code",
   "execution_count": 12,
   "metadata": {},
   "outputs": [
    {
     "data": {
      "text/plain": [
       "True"
      ]
     },
     "execution_count": 12,
     "metadata": {},
     "output_type": "execute_result"
    }
   ],
   "source": [
    "test_player.discard([2, 3, 4, 5])"
   ]
  },
  {
   "cell_type": "code",
   "execution_count": 13,
   "metadata": {},
   "outputs": [
    {
     "name": "stdout",
     "output_type": "stream",
     "text": [
      "♠ 8\n",
      "♠ 3\n",
      "♥ Ace\n",
      "♣ 10\n",
      "♦ 5\n",
      "♣ Queen\n",
      "♠ 5\n",
      "♠ 7\n"
     ]
    }
   ],
   "source": [
    "for i in test_player.hand:\n",
    "    print(i)"
   ]
  },
  {
   "cell_type": "code",
   "execution_count": 14,
   "metadata": {},
   "outputs": [
    {
     "data": {
      "text/plain": [
       "[4, 3, 5, 2]"
      ]
     },
     "execution_count": 14,
     "metadata": {},
     "output_type": "execute_result"
    }
   ],
   "source": [
    "FlushStrategy().select_discard_cards(test_player)"
   ]
  },
  {
   "cell_type": "code",
   "execution_count": 15,
   "metadata": {},
   "outputs": [
    {
     "data": {
      "text/plain": [
       "True"
      ]
     },
     "execution_count": 15,
     "metadata": {},
     "output_type": "execute_result"
    }
   ],
   "source": [
    "test_player.discard([2, 3, 4, 5])"
   ]
  },
  {
   "cell_type": "code",
   "execution_count": 16,
   "metadata": {},
   "outputs": [
    {
     "name": "stdout",
     "output_type": "stream",
     "text": [
      "♠ 8\n",
      "♠ 3\n",
      "♣ 2\n",
      "♦ 4\n",
      "♠ Queen\n",
      "♣ 5\n",
      "♠ 5\n",
      "♠ 7\n"
     ]
    }
   ],
   "source": [
    "for i in test_player.hand:\n",
    "    print(i)\n",
    "    "
   ]
  },
  {
   "cell_type": "code",
   "execution_count": 17,
   "metadata": {},
   "outputs": [
    {
     "data": {
      "text/plain": [
       "[4, 0, 7, 6, 1]"
      ]
     },
     "execution_count": 17,
     "metadata": {},
     "output_type": "execute_result"
    }
   ],
   "source": [
    "FlushStrategy().select_play_cards(test_player)"
   ]
  },
  {
   "cell_type": "code",
   "execution_count": 18,
   "metadata": {},
   "outputs": [
    {
     "data": {
      "text/plain": [
       "True"
      ]
     },
     "execution_count": 18,
     "metadata": {},
     "output_type": "execute_result"
    }
   ],
   "source": [
    "test_player.play([4, 0, 7, 6, 1])"
   ]
  },
  {
   "cell_type": "code",
   "execution_count": 19,
   "metadata": {},
   "outputs": [
    {
     "data": {
      "text/plain": [
       "272"
      ]
     },
     "execution_count": 19,
     "metadata": {},
     "output_type": "execute_result"
    }
   ],
   "source": [
    "test_player.currentScore"
   ]
  },
  {
   "cell_type": "code",
   "execution_count": null,
   "metadata": {},
   "outputs": [],
   "source": []
  }
 ],
 "metadata": {
  "kernelspec": {
   "display_name": "base",
   "language": "python",
   "name": "python3"
  },
  "language_info": {
   "codemirror_mode": {
    "name": "ipython",
    "version": 3
   },
   "file_extension": ".py",
   "mimetype": "text/x-python",
   "name": "python",
   "nbconvert_exporter": "python",
   "pygments_lexer": "ipython3",
   "version": "3.12.7"
  }
 },
 "nbformat": 4,
 "nbformat_minor": 2
}
