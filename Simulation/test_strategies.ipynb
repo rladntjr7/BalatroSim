{
 "cells": [
  {
   "cell_type": "code",
   "execution_count": 1,
   "metadata": {},
   "outputs": [],
   "source": [
    "from strategicPlayer import StrategicPlayer\n",
    "from strategy import FlushStrategy, StraightStrategy, FullHouse4CardsStrategy\n",
    "import time\n",
    "import random\n",
    "import pandas as pd"
   ]
  },
  {
   "cell_type": "code",
   "execution_count": 2,
   "metadata": {},
   "outputs": [
    {
     "name": "stderr",
     "output_type": "stream",
     "text": [
      "C:\\Users\\Kenny\\AppData\\Local\\Temp\\ipykernel_33400\\2407816962.py:17: FutureWarning: The behavior of DataFrame concatenation with empty or all-NA entries is deprecated. In a future version, this will no longer exclude empty or all-NA columns when determining the result dtypes. To retain the old behavior, exclude the relevant entries before the concat operation.\n",
      "  flush_df = pd.concat([flush_df, pd.DataFrame([new_row])], ignore_index=True)\n"
     ]
    }
   ],
   "source": [
    "flush_df = pd.DataFrame(columns=[\"Strategy\", \"Won\", \"Score\", \"Remaining_plays\", \"Target_hand_ratio\"])\n",
    "\n",
    "# \"score\": self.currentScore,\n",
    "# \"remainingPlaysToWin\": self.remainingPlaysToWin,\n",
    "# \"history\": self.history\n",
    "for i in range(50):\n",
    "    random.seed(i)\n",
    "    FlushPlayer = StrategicPlayer(FlushStrategy())\n",
    "    FlushResults = FlushPlayer.play_strategically()\n",
    "    target_hands = FlushPlayer.target_hand\n",
    "    target_hands_ratio = len([hand for hand in FlushResults[\"history\"] if hand[1] in target_hands]) / len(FlushResults[\"history\"])\n",
    "    new_row = {\"Strategy\": \"Flush\", \n",
    "               \"Won\": 1 if FlushResults[\"score\"] >= 600 else 0, \n",
    "               \"Score\": FlushResults[\"score\"], \n",
    "               \"Remaining_plays\": FlushResults[\"remainingPlaysToWin\"], \n",
    "               \"Target_hand_ratio\": target_hands_ratio}\n",
    "    flush_df = pd.concat([flush_df, pd.DataFrame([new_row])], ignore_index=True)\n",
    "\n"
   ]
  },
  {
   "cell_type": "code",
   "execution_count": 3,
   "metadata": {},
   "outputs": [
    {
     "name": "stdout",
     "output_type": "stream",
     "text": [
      "Won                     1.0\n",
      "Score                1051.6\n",
      "Remaining_plays        1.22\n",
      "Target_hand_ratio      0.81\n",
      "dtype: object\n",
      "Won                         0.0\n",
      "Score                255.177969\n",
      "Remaining_plays        0.736511\n",
      "Target_hand_ratio      0.156166\n",
      "dtype: object\n"
     ]
    }
   ],
   "source": [
    "# find the mean and std of the values in the columns, exclude the strategy column\n",
    "print(flush_df.drop(columns=[\"Strategy\"]).mean())\n",
    "print(flush_df.drop(columns=[\"Strategy\"]).std())\n"
   ]
  },
  {
   "cell_type": "code",
   "execution_count": 4,
   "metadata": {},
   "outputs": [
    {
     "name": "stderr",
     "output_type": "stream",
     "text": [
      "C:\\Users\\Kenny\\AppData\\Local\\Temp\\ipykernel_33400\\728792506.py:17: FutureWarning: The behavior of DataFrame concatenation with empty or all-NA entries is deprecated. In a future version, this will no longer exclude empty or all-NA columns when determining the result dtypes. To retain the old behavior, exclude the relevant entries before the concat operation.\n",
      "  straight_df = pd.concat([straight_df, pd.DataFrame([new_row])], ignore_index=True)\n"
     ]
    }
   ],
   "source": [
    "straight_df = pd.DataFrame(columns=[\"Strategy\", \"Won\", \"Score\", \"Remaining_plays\", \"Target_hand_ratio\"])\n",
    "\n",
    "# \"score\": self.currentScore,\n",
    "# \"remainingPlaysToWin\": self.remainingPlaysToWin,\n",
    "# \"history\": self.history\n",
    "for i in range(50):\n",
    "    random.seed(i)\n",
    "    StraightPlayer = StrategicPlayer(StraightStrategy())\n",
    "    StraightResults = StraightPlayer.play_strategically()\n",
    "    target_hands = StraightPlayer.target_hand\n",
    "    target_hands_ratio = len([hand for hand in StraightResults[\"history\"] if hand[1] in target_hands]) / len(StraightResults[\"history\"])\n",
    "    new_row = {\"Strategy\": \"Straight\", \n",
    "               \"Won\": 1 if StraightResults[\"score\"] >= 600 else 0, \n",
    "               \"Score\": StraightResults[\"score\"], \n",
    "               \"Remaining_plays\": StraightResults[\"remainingPlaysToWin\"], \n",
    "               \"Target_hand_ratio\": target_hands_ratio}\n",
    "    straight_df = pd.concat([straight_df, pd.DataFrame([new_row])], ignore_index=True)"
   ]
  },
  {
   "cell_type": "code",
   "execution_count": 5,
   "metadata": {},
   "outputs": [
    {
     "name": "stdout",
     "output_type": "stream",
     "text": [
      "Won                   0.88\n",
      "Score                889.0\n",
      "Remaining_plays       0.92\n",
      "Target_hand_ratio     0.74\n",
      "dtype: object\n",
      "Won                    0.328261\n",
      "Score                201.181409\n",
      "Remaining_plays        0.695173\n",
      "Target_hand_ratio      0.188712\n",
      "dtype: object\n"
     ]
    }
   ],
   "source": [
    "# find the mean and std of the values in the columns, exclude the strategy column\n",
    "print(straight_df.drop(columns=[\"Strategy\"]).mean())\n",
    "print(straight_df.drop(columns=[\"Strategy\"]).std())"
   ]
  },
  {
   "cell_type": "code",
   "execution_count": 6,
   "metadata": {},
   "outputs": [
    {
     "name": "stderr",
     "output_type": "stream",
     "text": [
      "C:\\Users\\Kenny\\AppData\\Local\\Temp\\ipykernel_33400\\1258351139.py:17: FutureWarning: The behavior of DataFrame concatenation with empty or all-NA entries is deprecated. In a future version, this will no longer exclude empty or all-NA columns when determining the result dtypes. To retain the old behavior, exclude the relevant entries before the concat operation.\n",
      "  full_house_df = pd.concat([full_house_df, pd.DataFrame([new_row])], ignore_index=True)\n"
     ]
    }
   ],
   "source": [
    "\n",
    "full_house_df = pd.DataFrame(columns=[\"Strategy\", \"Won\", \"Score\", \"Remaining_plays\", \"Target_hand_ratio\"])\n",
    "\n",
    "# \"score\": self.currentScore,\n",
    "# \"remainingPlaysToWin\": self.remainingPlaysToWin,\n",
    "# \"history\": self.history\n",
    "for i in range(50):\n",
    "    random.seed(i)\n",
    "    FullHousePlayer = StrategicPlayer(FullHouse4CardsStrategy())\n",
    "    FullHouseResults = FullHousePlayer.play_strategically()\n",
    "    target_hands = FullHousePlayer.target_hand\n",
    "    target_hands_ratio = len([hand for hand in FullHouseResults[\"history\"] if hand[1] in target_hands]) / len(FullHouseResults[\"history\"])\n",
    "    new_row = {\"Strategy\": \"Full House\", \n",
    "               \"Won\": 1 if FullHouseResults[\"score\"] >= 600 else 0, \n",
    "               \"Score\": FullHouseResults[\"score\"], \n",
    "               \"Remaining_plays\": FullHouseResults[\"remainingPlaysToWin\"], \n",
    "               \"Target_hand_ratio\": target_hands_ratio}\n",
    "    full_house_df = pd.concat([full_house_df, pd.DataFrame([new_row])], ignore_index=True)"
   ]
  },
  {
   "cell_type": "code",
   "execution_count": 7,
   "metadata": {},
   "outputs": [
    {
     "name": "stdout",
     "output_type": "stream",
     "text": [
      "Won                    0.78\n",
      "Score                866.38\n",
      "Remaining_plays        0.98\n",
      "Target_hand_ratio     0.625\n",
      "dtype: object\n",
      "Won                   0.418452\n",
      "Score                318.88792\n",
      "Remaining_plays       0.868731\n",
      "Target_hand_ratio     0.277792\n",
      "dtype: object\n"
     ]
    }
   ],
   "source": [
    "print(full_house_df.drop(columns=[\"Strategy\"]).mean())\n",
    "print(full_house_df.drop(columns=[\"Strategy\"]).std())\n"
   ]
  },
  {
   "cell_type": "code",
   "execution_count": 8,
   "metadata": {},
   "outputs": [
    {
     "name": "stdout",
     "output_type": "stream",
     "text": [
      "Won\n",
      "1    44\n",
      "0     6\n",
      "Name: count, dtype: int64\n",
      "Won\n",
      "1    50\n",
      "Name: count, dtype: int64\n",
      "Won\n",
      "1    39\n",
      "0    11\n",
      "Name: count, dtype: int64\n"
     ]
    }
   ],
   "source": [
    "# how many times the player lost\n",
    "print(straight_df[\"Won\"].value_counts())\n",
    "print(flush_df[\"Won\"].value_counts())\n",
    "print(full_house_df[\"Won\"].value_counts())\n",
    "\n"
   ]
  },
  {
   "cell_type": "code",
   "execution_count": 10,
   "metadata": {},
   "outputs": [
    {
     "name": "stdout",
     "output_type": "stream",
     "text": [
      "Paired T-test for Won:\n",
      "Straight vs Flush: mean diff = -0.120, p-value = 0.0128\n",
      "Flush vs Full House: mean diff = 0.220, p-value = 0.0005\n",
      "Full House vs Straight: mean diff = -0.100, p-value = 0.1678\n",
      "Paired T-test for Score:\n",
      "Straight vs Flush: mean diff = -162.600, p-value = 0.0008\n",
      "Flush vs Full House: mean diff = 185.220, p-value = 0.0001\n",
      "Full House vs Straight: mean diff = -22.620, p-value = 0.6752\n",
      "Paired T-test for Remaining_plays:\n",
      "Straight vs Flush: mean diff = -0.300, p-value = 0.0419\n",
      "Flush vs Full House: mean diff = 0.240, p-value = 0.0766\n",
      "Full House vs Straight: mean diff = 0.060, p-value = 0.6953\n",
      "Paired T-test for Target_hand_ratio:\n",
      "Straight vs Flush: mean diff = -0.070, p-value = 0.0334\n",
      "Flush vs Full House: mean diff = 0.185, p-value = 0.0000\n",
      "Full House vs Straight: mean diff = -0.115, p-value = 0.0143\n"
     ]
    }
   ],
   "source": [
    "from scipy.stats import ttest_rel\n",
    "\n",
    "for df in [straight_df, flush_df, full_house_df]:\n",
    "    for col in [\"Won\", \"Score\", \"Remaining_plays\", \"Target_hand_ratio\"]:\n",
    "        df[col] = pd.to_numeric(df[col], errors='coerce')\n",
    "\n",
    "for measure in [\"Won\", \"Score\", \"Remaining_plays\", \"Target_hand_ratio\"]:\n",
    "    print(f\"Paired T-test for {measure}:\")\n",
    "    mean_diff = straight_df[measure].mean() - flush_df[measure].mean()\n",
    "    t_stat, p_value = ttest_rel(straight_df[measure], flush_df[measure])\n",
    "    print(f\"Straight vs Flush: mean diff = {mean_diff:.3f}, p-value = {p_value:.4f}\")\n",
    "    mean_diff = flush_df[measure].mean() - full_house_df[measure].mean()\n",
    "    t_stat, p_value = ttest_rel(flush_df[measure], full_house_df[measure])\n",
    "    print(f\"Flush vs Full House: mean diff = {mean_diff:.3f}, p-value = {p_value:.4f}\")\n",
    "    mean_diff = full_house_df[measure].mean() - straight_df[measure].mean()\n",
    "    t_stat, p_value = ttest_rel(full_house_df[measure], straight_df[measure])\n",
    "    print(f\"Full House vs Straight: mean diff = {mean_diff:.3f}, p-value = {p_value:.4f}\")\n",
    "\n",
    "\n"
   ]
  },
  {
   "cell_type": "code",
   "execution_count": null,
   "metadata": {},
   "outputs": [],
   "source": []
  },
  {
   "cell_type": "code",
   "execution_count": null,
   "metadata": {},
   "outputs": [],
   "source": []
  }
 ],
 "metadata": {
  "kernelspec": {
   "display_name": "Python 3",
   "language": "python",
   "name": "python3"
  },
  "language_info": {
   "codemirror_mode": {
    "name": "ipython",
    "version": 3
   },
   "file_extension": ".py",
   "mimetype": "text/x-python",
   "name": "python",
   "nbconvert_exporter": "python",
   "pygments_lexer": "ipython3",
   "version": "3.13.3"
  }
 },
 "nbformat": 4,
 "nbformat_minor": 2
}
