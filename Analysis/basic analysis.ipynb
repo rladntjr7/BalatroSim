{
 "cells": [
  {
   "cell_type": "code",
   "execution_count": 1,
   "metadata": {},
   "outputs": [
    {
     "name": "stdout",
     "output_type": "stream",
     "text": [
      "Mean of flush_df.csv:\n",
      "Won                     0.9804\n",
      "Score                1019.9184\n",
      "Remaining_plays         1.1976\n",
      "Target_hand_ratio       0.8047\n",
      "dtype: float64\n",
      "Std of flush_df.csv:\n",
      "Won                    0.138649\n",
      "Score                270.713346\n",
      "Remaining_plays        0.706225\n",
      "Target_hand_ratio      0.185868\n",
      "dtype: float64\n",
      "Mean of full_house_df.csv:\n",
      "Won                    0.8848\n",
      "Score                943.5348\n",
      "Remaining_plays        1.2256\n",
      "Target_hand_ratio      0.6797\n",
      "dtype: float64\n",
      "Std of full_house_df.csv:\n",
      "Won                    0.319327\n",
      "Score                290.115702\n",
      "Remaining_plays        0.857321\n",
      "Target_hand_ratio      0.240845\n",
      "dtype: float64\n",
      "Mean of straight_df.csv:\n",
      "Won                    0.8692\n",
      "Score                871.4020\n",
      "Remaining_plays        0.8536\n",
      "Target_hand_ratio      0.7205\n",
      "dtype: float64\n",
      "Std of straight_df.csv:\n",
      "Won                    0.337249\n",
      "Score                248.526778\n",
      "Remaining_plays        0.729095\n",
      "Target_hand_ratio      0.218229\n",
      "dtype: float64\n"
     ]
    }
   ],
   "source": [
    "result_paths = \"../Results\"\n",
    "\n",
    "import pandas as pd\n",
    "import os\n",
    "\n",
    "for file in os.listdir(result_paths):\n",
    "    if file.endswith(\".csv\"):\n",
    "        df = pd.read_csv(os.path.join(result_paths, file))\n",
    "        print(f\"Mean of {file}:\")\n",
    "        print(df.drop(columns=[\"Strategy\"]).mean())\n",
    "        print(f\"Std of {file}:\")\n",
    "        print(df.drop(columns=[\"Strategy\"]).std())\n"
   ]
  }
 ],
 "metadata": {
  "kernelspec": {
   "display_name": "Python 3",
   "language": "python",
   "name": "python3"
  },
  "language_info": {
   "codemirror_mode": {
    "name": "ipython",
    "version": 3
   },
   "file_extension": ".py",
   "mimetype": "text/x-python",
   "name": "python",
   "nbconvert_exporter": "python",
   "pygments_lexer": "ipython3",
   "version": "3.13.3"
  }
 },
 "nbformat": 4,
 "nbformat_minor": 2
}
